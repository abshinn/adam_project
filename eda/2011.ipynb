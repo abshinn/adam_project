{
 "metadata": {
  "name": "",
  "signature": "sha256:3fe97e2e1253c86a4dc489de0522a5c20cdfa34922a52bcd081ffa44336ee597"
 },
 "nbformat": 3,
 "nbformat_minor": 0,
 "worksheets": [
  {
   "cells": [
    {
     "cell_type": "code",
     "collapsed": false,
     "input": [
      "%pylab inline"
     ],
     "language": "python",
     "metadata": {},
     "outputs": [
      {
       "output_type": "stream",
       "stream": "stdout",
       "text": [
        "Populating the interactive namespace from numpy and matplotlib\n"
       ]
      }
     ],
     "prompt_number": 1
    },
    {
     "cell_type": "code",
     "collapsed": false,
     "input": [
      "import pandas as pd\n",
      "import numpy as np\n",
      "import seaborn as sns\n",
      "rcParams[\"figure.figsize\"] = 18, 8\n",
      "sns.set(rcParams)\n",
      "sns.set(palette=\"Set2\")\n",
      "sns.set_context(\"poster\")\n",
      "np.set_printoptions(precision=4)"
     ],
     "language": "python",
     "metadata": {},
     "outputs": [],
     "prompt_number": 2
    },
    {
     "cell_type": "code",
     "collapsed": false,
     "input": [
      "# rename columns\n",
      "columns = [u'essay_title', u'_projectid', u'date_completed', u'date_expired', u'funding_status', \n",
      "           u'grade_level', u'num_donors', u'date_posted', u'poverty_level', u'students_reached', \n",
      "           u'project_subject', u'subject_category', u'total_donations', u'tot_price_without_support', \n",
      "           u'total_price_with_support', u'_schoolid', u'city', u'state', u'district', u'latitude', \n",
      "           u'longitude', u'teach_for_america', u'_teacherid', u'zip', u'_NCESid', u'resource_type', u'county']\n",
      "\n",
      "df = pd.read_csv(\"../data/looker_completed_projects_7_14_14.csv\", skiprows=1, names=columns,\n",
      "                 parse_dates = [\"date_posted\", \"date_completed\", \"date_expired\"],\n",
      "                 true_values=\"Yes\", false_values=\"No\")\n",
      "\n",
      "\n",
      "year_posted = df.date_posted.apply(lambda date: date.year)\n",
      "df[\"year_posted\"] = year_posted\n",
      "\n",
      "df2011 = df[df.year_posted == 2011].copy()\n",
      "del df"
     ],
     "language": "python",
     "metadata": {},
     "outputs": [],
     "prompt_number": 3
    },
    {
     "cell_type": "code",
     "collapsed": false,
     "input": [
      "df2011.district"
     ],
     "language": "python",
     "metadata": {},
     "outputs": [
      {
       "metadata": {},
       "output_type": "pyout",
       "prompt_number": 5,
       "text": [
        "9           New York City Dept Of Ed\n",
        "14     Colby Unified School Dist 315\n",
        "22     Palm Beach Co School District\n",
        "28    Richardson Ind School District\n",
        "41       Galena Park Ind School Dist\n",
        "44     Miami-dade Co Public Sch Dist\n",
        "48    Charlotte-mecklenburg Sch Dist\n",
        "49        Houston Co School District\n",
        "51              Nebo School District\n",
        "57      Fremont Unif School District\n",
        "75     Collier Co Public School Dist\n",
        "83        Baldwin Co School District\n",
        "85     Mcintosh School District 15-1\n",
        "93           Iron Co School District\n",
        "95     Dysart Unified School Dist 89\n",
        "...\n",
        "448851        Hawthorne School District\n",
        "448854      Dillon Co School District 4\n",
        "448876        O'hare Elementary Network\n",
        "448881         New York City Dept Of Ed\n",
        "448893                      District 75\n",
        "448901      Duval Co Public School Dist\n",
        "448915        Indiana Dept of Education\n",
        "448934         New York City Dept Of Ed\n",
        "448938    Whittier City School District\n",
        "448943        Crete-monee Cmty SD 201-u\n",
        "448951     Pasadena Unified School Dist\n",
        "448969        Crete-monee Cmty SD 201-u\n",
        "448975      Mahopac Ctl School District\n",
        "448984      City Of Baker School Sytems\n",
        "448997         New York City Dept Of Ed\n",
        "Name: district, Length: 104197, dtype: object"
       ]
      }
     ],
     "prompt_number": 5
    },
    {
     "cell_type": "code",
     "collapsed": false,
     "input": [
      "schools = df2011.groupby(\"_NCESid\").agg({'_projectid': pd.Series.nunique,\n",
      "                                         'total_donations': np.sum,\n",
      "                                         'students_reached': np.sum,\n",
      "                                         'funding_status': lambda S: np.sum(S != 'expired')/np.float(len(S)),\n",
      "                                         'poverty_level': lambda S: S.iloc[0], # only take one\n",
      "                                         })"
     ],
     "language": "python",
     "metadata": {},
     "outputs": [],
     "prompt_number": 4
    },
    {
     "cell_type": "code",
     "collapsed": false,
     "input": [
      "schools.columns = ['students_reached', 'projects', 'percent_funded', 'total_donations', 'poverty_level']\n",
      "\n",
      "binary_poverty = pd.get_dummies(schools.poverty_level)\n",
      "\n",
      "del schools['poverty_level']\n",
      "\n",
      "schools = pd.concat([schools, binary_poverty], axis=1)"
     ],
     "language": "python",
     "metadata": {},
     "outputs": [],
     "prompt_number": 5
    },
    {
     "cell_type": "code",
     "collapsed": false,
     "input": [
      "# user defined module\n",
      "import sys\n",
      "sys.path.append('/Users/shinn/zipf/donorschoose/code')\n",
      "import merge"
     ],
     "language": "python",
     "metadata": {},
     "outputs": [],
     "prompt_number": 6
    },
    {
     "cell_type": "code",
     "collapsed": false,
     "input": [
      "import imp\n",
      "imp.reload(merge)"
     ],
     "language": "python",
     "metadata": {},
     "outputs": [
      {
       "metadata": {},
       "output_type": "pyout",
       "prompt_number": 33,
       "text": [
        "<module 'merge' from '/Users/shinn/zipf/donorschoose/code/merge.py'>"
       ]
      }
     ],
     "prompt_number": 33
    },
    {
     "cell_type": "code",
     "collapsed": false,
     "input": [
      "NCES_schools = merge.get_NCES_schools(schools.index, columns=[\"SURVYEAR\", \"LEAID\",\n",
      "                                                              \"FRELCH\", \"REDLCH\", \"TOTFRL\", \n",
      "                                                              \"FTE\", \"ULOCAL\", \n",
      "                                                              \"STATUS\", \"TYPE\",\n",
      "                                                              \"RECONSTY\", \"RECONSTF\", \n",
      "                                                              \"CHARTR\", \"MAGNET\",\n",
      "                                                              \"TITLEI\", \"STITLI\", \n",
      "                                                              \"MEMBER\", \"UG\", \"TOTETH\", \n",
      "                                                              \"WHITE\", \"BLACK\",\n",
      "                                                               ])"
     ],
     "language": "python",
     "metadata": {},
     "outputs": [],
     "prompt_number": 8
    },
    {
     "cell_type": "code",
     "collapsed": false,
     "input": [
      "# note: there will be multiple entries for districts\n",
      "NCES_districts = merge.get_NCES_districts(NCES_schools.LEAID, columns=[\"TOTALREV\", \"TFEDREV\", \n",
      "                                                                       \"TSTREV\", \"TLOCREV\", \n",
      "                                                                       \"TOTALEXP\", \"TCURSSVC\",\n",
      "                                                                       \"TCAPOUT\",\n",
      "                                                                       \"HR1\", \"HE1\", \"HE2\",\n",
      "                                                                       ])\n",
      "\n",
      "# # clean some columns not needed for classification\n",
      "# del NCES_schools[\"LEAID\"]\n",
      "# del NCES_schools[\"SURVYEAR\"]"
     ],
     "language": "python",
     "metadata": {},
     "outputs": [],
     "prompt_number": 34
    },
    {
     "cell_type": "code",
     "collapsed": false,
     "input": [
      "# NCES_districts.index = NCES_districts.index.astype(np.int)"
     ],
     "language": "python",
     "metadata": {},
     "outputs": [],
     "prompt_number": 39
    },
    {
     "cell_type": "code",
     "collapsed": false,
     "input": [
      "# temp = NCES_districts.loc[NCES_schools.LEAID]\n",
      "# temp.index = NCES_schools.LEAID.index\n",
      "# # len(pd.Series.nunique(temp.index))\n",
      "# temp\n",
      "# pd.Series(temp.index).nunique()\n",
      "\n",
      "# temp = NCES_districts.loc[NCES_schools.LEAID]\n",
      "# temp\n",
      "\n",
      "# NCES_districts.index = NCES_schools.index\n",
      "# NCES_districts\n"
     ],
     "language": "python",
     "metadata": {},
     "outputs": [],
     "prompt_number": 38
    },
    {
     "cell_type": "code",
     "collapsed": false,
     "input": [
      "df = pd.concat([schools, NCES_schools, NCES_districts], axis=1)"
     ],
     "language": "python",
     "metadata": {},
     "outputs": [],
     "prompt_number": 39
    },
    {
     "cell_type": "code",
     "collapsed": false,
     "input": [
      "df.percent_funded.mean()"
     ],
     "language": "python",
     "metadata": {},
     "outputs": [
      {
       "metadata": {},
       "output_type": "pyout",
       "prompt_number": 40,
       "text": [
        "0.58351930694039289"
       ]
      }
     ],
     "prompt_number": 40
    },
    {
     "cell_type": "code",
     "collapsed": false,
     "input": [
      "# del df[\"SURVYEAR\"]\n",
      "\n",
      "print df.isnull().sum()\n",
      "\n",
      "print df.TOTALREV.isnull().sum()\n",
      "print len(df)\n",
      "df.TOTALREV.describe()"
     ],
     "language": "python",
     "metadata": {},
     "outputs": [
      {
       "output_type": "stream",
       "stream": "stdout",
       "text": [
        "students_reached        1\n",
        "projects                0\n",
        "percent_funded          0\n",
        "total_donations         0\n",
        "high poverty            0\n",
        "highest poverty         0\n",
        "low poverty             0\n",
        "LEAID                 127\n",
        "FRELCH               3120\n",
        "REDLCH               3303\n",
        "TOTFRL               1568\n",
        "FTE                   334\n",
        "ULOCAL                127\n",
        "STATUS                153\n",
        "TYPE                  512\n",
        "RECONSTY            21920\n",
        "RECONSTF              127\n",
        "CHARTR               1723\n",
        "MAGNET               4443\n",
        "TITLEI               1131\n",
        "STITLI               4850\n",
        "MEMBER                311\n",
        "UG                  19356\n",
        "TOTETH                315\n",
        "WHITE                 317\n",
        "BLACK                 317\n",
        "TOTALREV             1123\n",
        "TFEDREV              1123\n",
        "TSTREV               1123\n",
        "TLOCREV              1123\n",
        "TOTALEXP             1123\n",
        "TCURSSVC             1123\n",
        "TCAPOUT              1123\n",
        "HR1                  1520\n",
        "HE1                  1662\n",
        "HE2                  1667\n",
        "dtype: int64\n",
        "1123\n",
        "22252\n"
       ]
      },
      {
       "metadata": {},
       "output_type": "pyout",
       "prompt_number": 60,
       "text": [
        "count    2.112900e+04\n",
        "mean     8.242140e+08\n",
        "std      1.837381e+09\n",
        "min      4.070000e+05\n",
        "25%      5.236300e+07\n",
        "50%      1.753800e+08\n",
        "75%      5.900540e+08\n",
        "max      9.445475e+09\n",
        "Name: TOTALREV, dtype: float64"
       ]
      }
     ],
     "prompt_number": 60
    },
    {
     "cell_type": "markdown",
     "metadata": {},
     "source": [
      "## NCES School Data Notes:\n",
      "- UG: Ungraded Students column is mostly null values\n"
     ]
    },
    {
     "cell_type": "code",
     "collapsed": false,
     "input": [
      "# pd.scatter_matrix(df, figsize=(30,30));\n",
      "np.corrcoef([1, 2, 3, 4],[1, 2, 3, 4])"
     ],
     "language": "python",
     "metadata": {},
     "outputs": [
      {
       "metadata": {},
       "output_type": "pyout",
       "prompt_number": 26,
       "text": [
        "array([[ 1.,  1.],\n",
        "       [ 1.,  1.]])"
       ]
      }
     ],
     "prompt_number": 26
    },
    {
     "cell_type": "markdown",
     "metadata": {},
     "source": [
      "## Correlation with Number of Projects"
     ]
    },
    {
     "cell_type": "code",
     "collapsed": false,
     "input": [
      "columns = [\"TOTFRL\", \"FRELCH\", \"REDLCH\", \"FTE\", \"UG\", \"TOTETH\", \n",
      "           \"WHITE\", \"BLACK\", \"TOTALREV\", \"TSTREV\", \"TLOCREV\", \n",
      "           \"TCAPOUT\", \"TOTALEXP\"]\n",
      "temp = df[[\"projects\", \"MEMBER\"] + columns].dropna()\n",
      "for column in columns:\n",
      "    print \"[{:>8}] {:5.2f}\".format( column, np.corrcoef(temp.projects, temp[column]/temp.MEMBER)[0,1] )"
     ],
     "language": "python",
     "metadata": {},
     "outputs": [
      {
       "output_type": "stream",
       "stream": "stdout",
       "text": [
        "[  TOTFRL]  0.17\n",
        "[  FRELCH]  0.18\n",
        "[  REDLCH] -0.02\n",
        "[     FTE]  0.02\n",
        "[      UG] -0.01\n",
        "[  TOTETH]   nan\n",
        "[   WHITE] -0.17\n",
        "[   BLACK]  0.08\n",
        "[TOTALREV]  0.06\n",
        "[  TSTREV]  0.06\n",
        "[ TLOCREV]  0.04\n",
        "[ TCAPOUT]  0.07\n",
        "[TOTALEXP]  0.06\n"
       ]
      }
     ],
     "prompt_number": 12
    },
    {
     "cell_type": "code",
     "collapsed": false,
     "input": [
      "# projects/teachers\n",
      "temp = df.projects#/(df.FTE + 1)\n",
      "\n",
      "print temp.describe()\n",
      "temp.hist(bins=50)#, log=np.log10)\n",
      "plt.title(\"all schools: projects / teachers\");"
     ],
     "language": "python",
     "metadata": {},
     "outputs": [
      {
       "output_type": "stream",
       "stream": "stdout",
       "text": [
        "count    22252.000000\n",
        "mean         4.400818\n",
        "std          8.832545\n",
        "min          1.000000\n",
        "25%          1.000000\n",
        "50%          2.000000\n",
        "75%          4.000000\n",
        "max        244.000000\n",
        "Name: projects, dtype: float64\n"
       ]
      },
      {
       "metadata": {},
       "output_type": "display_data",
       "png": "[encoded data removed]",
       "text": [
        "<matplotlib.figure.Figure at 0x1108db510>"
       ]
      }
     ],
     "prompt_number": 13
    },
    {
     "cell_type": "markdown",
     "metadata": {},
     "source": [
      "## Activity Label"
     ]
    },
    {
     "cell_type": "code",
     "collapsed": false,
     "input": [
      "(df.projects <= 1).sum()/np.float(len(df))"
     ],
     "language": "python",
     "metadata": {},
     "outputs": [
      {
       "metadata": {},
       "output_type": "pyout",
       "prompt_number": 14,
       "text": [
        "0.43789322308107137"
       ]
      }
     ],
     "prompt_number": 14
    },
    {
     "cell_type": "code",
     "collapsed": false,
     "input": [
      "temp = df.projects#/(df.FTE + 1)\n",
      "\n",
      "df['active'] = temp > temp.mean()"
     ],
     "language": "python",
     "metadata": {},
     "outputs": [],
     "prompt_number": 15
    },
    {
     "cell_type": "code",
     "collapsed": false,
     "input": [
      "df.active.value_counts()"
     ],
     "language": "python",
     "metadata": {},
     "outputs": [
      {
       "metadata": {},
       "output_type": "pyout",
       "prompt_number": 16,
       "text": [
        "False    17256\n",
        "True      4996\n",
        "dtype: int64"
       ]
      }
     ],
     "prompt_number": 16
    },
    {
     "cell_type": "code",
     "collapsed": false,
     "input": [
      "!../code/feature_importance.py"
     ],
     "language": "python",
     "metadata": {},
     "outputs": [
      {
       "output_type": "stream",
       "stream": "stdout",
       "text": [
        "[fetching data...]\r\n"
       ]
      },
      {
       "output_type": "stream",
       "stream": "stdout",
       "text": [
        "> /Users/shinn/zipf/donorschoose/code/feature_importance.py(96)fetch_data()\r\n",
        "-> data = data.dropna()\r\n",
        "(Pdb) "
       ]
      },
      {
       "output_type": "stream",
       "stream": "stdout",
       "text": [
        "Traceback (most recent call last):\r\n",
        "  File \"../code/feature_importance.py\", line 138, in <module>\r\n",
        "    project_activity.fetch_data()\r\n",
        "  File \"../code/feature_importance.py\", line 96, in fetch_data\r\n",
        "    data = data.dropna()\r\n",
        "  File \"../code/feature_importance.py\", line 96, in fetch_data\r\n",
        "    data = data.dropna()\r\n",
        "  File \"/usr/local/Cellar/python/2.7.6_1/Frameworks/Python.framework/Versions/2.7/lib/python2.7/bdb.py\", line 49, in trace_dispatch\r\n",
        "    return self.dispatch_line(frame)\r\n",
        "  File \"/usr/local/Cellar/python/2.7.6_1/Frameworks/Python.framework/Versions/2.7/lib/python2.7/bdb.py\", line 67, in dispatch_line\r\n",
        "    self.user_line(frame)\r\n",
        "  File \"/usr/local/Cellar/python/2.7.6_1/Frameworks/Python.framework/Versions/2.7/lib/python2.7/pdb.py\", line 158, in user_line\r\n",
        "    self.interaction(frame, None)\r\n",
        "  File \"/usr/local/Cellar/python/2.7.6_1/Frameworks/Python.framework/Versions/2.7/lib/python2.7/pdb.py\", line 210, in interaction\r\n",
        "    self.cmdloop()\r\n",
        "  File \"/usr/local/Cellar/python/2.7.6_1/Frameworks/Python.framework/Versions/2.7/lib/python2.7/cmd.py\", line 130, in cmdloop\r\n",
        "    line = raw_input(self.prompt)\r\n",
        "KeyboardInterrupt\r\n"
       ]
      }
     ],
     "prompt_number": 3
    },
    {
     "cell_type": "code",
     "collapsed": false,
     "input": [],
     "language": "python",
     "metadata": {},
     "outputs": []
    }
   ],
   "metadata": {}
  }
 ]
}