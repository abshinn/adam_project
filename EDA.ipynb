{
 "metadata": {
  "name": "",
  "signature": "sha256:c5b3cbbe45b4355faa78acc1769b89bb07ae4d8f13f22dcc64a8ea4e097f627e"
 },
 "nbformat": 3,
 "nbformat_minor": 0,
 "worksheets": [
  {
   "cells": [
    {
     "cell_type": "code",
     "collapsed": false,
     "input": [
      "%pylab inline"
     ],
     "language": "python",
     "metadata": {},
     "outputs": [
      {
       "output_type": "stream",
       "stream": "stdout",
       "text": [
        "Populating the interactive namespace from numpy and matplotlib\n"
       ]
      }
     ],
     "prompt_number": 94
    },
    {
     "cell_type": "code",
     "collapsed": false,
     "input": [
      "import pandas as pd\n",
      "import numpy as np\n",
      "import seaborn as sns\n",
      "rcParams[\"figure.figsize\"] = 18, 8\n",
      "np.set_printoptions(precision=4)"
     ],
     "language": "python",
     "metadata": {},
     "outputs": [],
     "prompt_number": 95
    },
    {
     "cell_type": "markdown",
     "metadata": {},
     "source": [
      "### Read in project data"
     ]
    },
    {
     "cell_type": "code",
     "collapsed": false,
     "input": [
      "df = pd.read_csv(\"data/opendata_projects.csv\", \n",
      "                 true_values=\"t\", false_values=\"f\",\n",
      "                 parse_dates = [\"date_posted\", \"date_completed\", \"date_expiration\"])"
     ],
     "language": "python",
     "metadata": {},
     "outputs": [],
     "prompt_number": 96
    },
    {
     "cell_type": "code",
     "collapsed": false,
     "input": [
      "for column in df.columns:\n",
      "    print column"
     ],
     "language": "python",
     "metadata": {},
     "outputs": [
      {
       "output_type": "stream",
       "stream": "stdout",
       "text": [
        "_projectid\n",
        "_teacher_acctid\n",
        "_schoolid\n",
        "school_ncesid\n",
        "school_latitude\n",
        "school_longitude\n",
        "school_city\n",
        "school_state\n",
        "school_zip\n",
        "school_metro\n",
        "school_district\n",
        "school_county\n",
        "school_charter\n",
        "school_magnet\n",
        "school_year_round\n",
        "school_nlns\n",
        "school_kipp\n",
        "school_charter_ready_promise\n",
        "teacher_prefix\n",
        "teacher_teach_for_america\n",
        "teacher_ny_teaching_fellow\n",
        "primary_focus_subject\n",
        "primary_focus_area\n",
        "secondary_focus_subject\n",
        "secondary_focus_area\n",
        "resource_type\n",
        "poverty_level\n",
        "grade_level\n",
        "vendor_shipping_charges\n",
        "sales_tax\n",
        "payment_processing_charges\n",
        "fulfillment_labor_materials\n",
        "total_price_excluding_optional_support\n",
        "total_price_including_optional_support\n",
        "students_reached\n",
        "total_donations\n",
        "num_donors\n",
        "eligible_double_your_impact_match\n",
        "eligible_almost_home_match\n",
        "funding_status\n",
        "date_posted\n",
        "date_completed\n",
        "date_thank_you_packet_mailed\n",
        "date_expiration\n"
       ]
      }
     ],
     "prompt_number": 97
    },
    {
     "cell_type": "markdown",
     "metadata": {},
     "source": [
      "### Histogram: Projects per school [2002 - 2013]"
     ]
    },
    {
     "cell_type": "code",
     "collapsed": false,
     "input": [
      "df._schoolid.value_counts().hist(bins=40, log=np.log10)\n",
      "plt.title(\"Projects / school Histo\");"
     ],
     "language": "python",
     "metadata": {},
     "outputs": [
      {
       "metadata": {},
       "output_type": "display_data",
       "png": "[encoded data removed]",
       "text": [
        "<matplotlib.figure.Figure at 0x1200a21d0>"
       ]
      }
     ],
     "prompt_number": 113
    },
    {
     "cell_type": "markdown",
     "metadata": {},
     "source": [
      "### How many one-project schools are there?"
     ]
    },
    {
     "cell_type": "code",
     "collapsed": false,
     "input": [
      "one_proj_schools = (df._schoolid.value_counts() == 1).sum()\n",
      "uniq_schools = len(df._schoolid.value_counts())\n",
      "\n",
      "print \"[One project schools / Total amount of schools]\\n\"\n",
      "print \"{} / {} -- {:.2f}\".format(one_proj_schools, uniq_schools, np.float(one_proj_schools)/uniq_schools)\n",
      "\n",
      "# print \"\\n\"\n",
      "\n",
      "# print \"[Number of one-project schools that were unsuccessful]\\n\"\n",
      "# one_proj_df = df.loc[(df._schoolid.value_counts() == 1).index]\n",
      "# one_proj_expired = len(one_proj_df.funding_status == \"expired\")\n",
      "# print \"{} / {} -- {:.2f}\".format(one_proj_expired, len(one_proj_df), np.float(one_proj_expired)/len(one_proj_df))"
     ],
     "language": "python",
     "metadata": {},
     "outputs": [
      {
       "output_type": "stream",
       "stream": "stdout",
       "text": [
        "[One project schools / Total amount of schools]\n",
        "\n",
        "13685 / 56354 -- 0.24\n"
       ]
      }
     ],
     "prompt_number": 114
    },
    {
     "cell_type": "code",
     "collapsed": false,
     "input": [
      "df.funding_status.value_counts()"
     ],
     "language": "python",
     "metadata": {},
     "outputs": [
      {
       "metadata": {},
       "output_type": "pyout",
       "prompt_number": 101,
       "text": [
        "completed      437671\n",
        "expired        183296\n",
        "live            19631\n",
        "reallocated      6097\n",
        "dtype: int64"
       ]
      }
     ],
     "prompt_number": 101
    },
    {
     "cell_type": "code",
     "collapsed": false,
     "input": [
      "year_posted = df.date_posted.apply(lambda date: date.year)\n",
      "df[\"year_posted\"] = year_posted\n",
      "years_active = df.groupby(\"_schoolid\").year_posted.nunique()\n",
      "projs_per_school = df.groupby(\"_schoolid\")._projectid.nunique()\n",
      "\n",
      "projs_per_year = projs_per_school/years_active.astype(np.float)"
     ],
     "language": "python",
     "metadata": {},
     "outputs": [],
     "prompt_number": 67
    },
    {
     "cell_type": "markdown",
     "metadata": {},
     "source": [
      "### Projects/year per school Histogram"
     ]
    },
    {
     "cell_type": "code",
     "collapsed": false,
     "input": [
      "projs_per_year.hist(bins=40, log=np.log10)\n",
      "plt.title(\"Projects per year per school Histo\");"
     ],
     "language": "python",
     "metadata": {},
     "outputs": [
      {
       "metadata": {},
       "output_type": "display_data",
       "png": "[encoded data removed]",
       "text": [
        "<matplotlib.figure.Figure at 0x1114c78d0>"
       ]
      }
     ],
     "prompt_number": 112
    },
    {
     "cell_type": "code",
     "collapsed": false,
     "input": [
      "# years_active.hist(bins=13)\n",
      "year_posted.hist(bins=13)\n",
      "plt.title(\"Projects by year\");"
     ],
     "language": "python",
     "metadata": {},
     "outputs": [
      {
       "metadata": {},
       "output_type": "display_data",
       "png": "[encoded data removed]",
       "text": [
        "<matplotlib.figure.Figure at 0x10d4cc310>"
       ]
      }
     ],
     "prompt_number": 111
    }
   ],
   "metadata": {}
  }
 ]
}